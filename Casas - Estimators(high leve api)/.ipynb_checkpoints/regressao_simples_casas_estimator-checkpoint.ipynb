{
 "cells": [
  {
   "cell_type": "code",
   "execution_count": 1,
   "metadata": {},
   "outputs": [
    {
     "data": {
      "text/html": [
       "<div>\n",
       "<style scoped>\n",
       "    .dataframe tbody tr th:only-of-type {\n",
       "        vertical-align: middle;\n",
       "    }\n",
       "\n",
       "    .dataframe tbody tr th {\n",
       "        vertical-align: top;\n",
       "    }\n",
       "\n",
       "    .dataframe thead th {\n",
       "        text-align: right;\n",
       "    }\n",
       "</style>\n",
       "<table border=\"1\" class=\"dataframe\">\n",
       "  <thead>\n",
       "    <tr style=\"text-align: right;\">\n",
       "      <th></th>\n",
       "      <th>id</th>\n",
       "      <th>date</th>\n",
       "      <th>price</th>\n",
       "      <th>bedrooms</th>\n",
       "      <th>bathrooms</th>\n",
       "      <th>sqft_living</th>\n",
       "      <th>sqft_lot</th>\n",
       "      <th>floors</th>\n",
       "      <th>waterfront</th>\n",
       "      <th>view</th>\n",
       "      <th>...</th>\n",
       "      <th>grade</th>\n",
       "      <th>sqft_above</th>\n",
       "      <th>sqft_basement</th>\n",
       "      <th>yr_built</th>\n",
       "      <th>yr_renovated</th>\n",
       "      <th>zipcode</th>\n",
       "      <th>lat</th>\n",
       "      <th>long</th>\n",
       "      <th>sqft_living15</th>\n",
       "      <th>sqft_lot15</th>\n",
       "    </tr>\n",
       "  </thead>\n",
       "  <tbody>\n",
       "    <tr>\n",
       "      <th>0</th>\n",
       "      <td>7129300520</td>\n",
       "      <td>20141013T000000</td>\n",
       "      <td>221900.0</td>\n",
       "      <td>3</td>\n",
       "      <td>1.00</td>\n",
       "      <td>1180</td>\n",
       "      <td>5650</td>\n",
       "      <td>1.0</td>\n",
       "      <td>0</td>\n",
       "      <td>0</td>\n",
       "      <td>...</td>\n",
       "      <td>7</td>\n",
       "      <td>1180</td>\n",
       "      <td>0</td>\n",
       "      <td>1955</td>\n",
       "      <td>0</td>\n",
       "      <td>98178</td>\n",
       "      <td>47.5112</td>\n",
       "      <td>-122.257</td>\n",
       "      <td>1340</td>\n",
       "      <td>5650</td>\n",
       "    </tr>\n",
       "    <tr>\n",
       "      <th>1</th>\n",
       "      <td>6414100192</td>\n",
       "      <td>20141209T000000</td>\n",
       "      <td>538000.0</td>\n",
       "      <td>3</td>\n",
       "      <td>2.25</td>\n",
       "      <td>2570</td>\n",
       "      <td>7242</td>\n",
       "      <td>2.0</td>\n",
       "      <td>0</td>\n",
       "      <td>0</td>\n",
       "      <td>...</td>\n",
       "      <td>7</td>\n",
       "      <td>2170</td>\n",
       "      <td>400</td>\n",
       "      <td>1951</td>\n",
       "      <td>1991</td>\n",
       "      <td>98125</td>\n",
       "      <td>47.7210</td>\n",
       "      <td>-122.319</td>\n",
       "      <td>1690</td>\n",
       "      <td>7639</td>\n",
       "    </tr>\n",
       "    <tr>\n",
       "      <th>2</th>\n",
       "      <td>5631500400</td>\n",
       "      <td>20150225T000000</td>\n",
       "      <td>180000.0</td>\n",
       "      <td>2</td>\n",
       "      <td>1.00</td>\n",
       "      <td>770</td>\n",
       "      <td>10000</td>\n",
       "      <td>1.0</td>\n",
       "      <td>0</td>\n",
       "      <td>0</td>\n",
       "      <td>...</td>\n",
       "      <td>6</td>\n",
       "      <td>770</td>\n",
       "      <td>0</td>\n",
       "      <td>1933</td>\n",
       "      <td>0</td>\n",
       "      <td>98028</td>\n",
       "      <td>47.7379</td>\n",
       "      <td>-122.233</td>\n",
       "      <td>2720</td>\n",
       "      <td>8062</td>\n",
       "    </tr>\n",
       "    <tr>\n",
       "      <th>3</th>\n",
       "      <td>2487200875</td>\n",
       "      <td>20141209T000000</td>\n",
       "      <td>604000.0</td>\n",
       "      <td>4</td>\n",
       "      <td>3.00</td>\n",
       "      <td>1960</td>\n",
       "      <td>5000</td>\n",
       "      <td>1.0</td>\n",
       "      <td>0</td>\n",
       "      <td>0</td>\n",
       "      <td>...</td>\n",
       "      <td>7</td>\n",
       "      <td>1050</td>\n",
       "      <td>910</td>\n",
       "      <td>1965</td>\n",
       "      <td>0</td>\n",
       "      <td>98136</td>\n",
       "      <td>47.5208</td>\n",
       "      <td>-122.393</td>\n",
       "      <td>1360</td>\n",
       "      <td>5000</td>\n",
       "    </tr>\n",
       "    <tr>\n",
       "      <th>4</th>\n",
       "      <td>1954400510</td>\n",
       "      <td>20150218T000000</td>\n",
       "      <td>510000.0</td>\n",
       "      <td>3</td>\n",
       "      <td>2.00</td>\n",
       "      <td>1680</td>\n",
       "      <td>8080</td>\n",
       "      <td>1.0</td>\n",
       "      <td>0</td>\n",
       "      <td>0</td>\n",
       "      <td>...</td>\n",
       "      <td>8</td>\n",
       "      <td>1680</td>\n",
       "      <td>0</td>\n",
       "      <td>1987</td>\n",
       "      <td>0</td>\n",
       "      <td>98074</td>\n",
       "      <td>47.6168</td>\n",
       "      <td>-122.045</td>\n",
       "      <td>1800</td>\n",
       "      <td>7503</td>\n",
       "    </tr>\n",
       "  </tbody>\n",
       "</table>\n",
       "<p>5 rows × 21 columns</p>\n",
       "</div>"
      ],
      "text/plain": [
       "           id             date     price  bedrooms  bathrooms  sqft_living  \\\n",
       "0  7129300520  20141013T000000  221900.0         3       1.00         1180   \n",
       "1  6414100192  20141209T000000  538000.0         3       2.25         2570   \n",
       "2  5631500400  20150225T000000  180000.0         2       1.00          770   \n",
       "3  2487200875  20141209T000000  604000.0         4       3.00         1960   \n",
       "4  1954400510  20150218T000000  510000.0         3       2.00         1680   \n",
       "\n",
       "   sqft_lot  floors  waterfront  view     ...      grade  sqft_above  \\\n",
       "0      5650     1.0           0     0     ...          7        1180   \n",
       "1      7242     2.0           0     0     ...          7        2170   \n",
       "2     10000     1.0           0     0     ...          6         770   \n",
       "3      5000     1.0           0     0     ...          7        1050   \n",
       "4      8080     1.0           0     0     ...          8        1680   \n",
       "\n",
       "   sqft_basement  yr_built  yr_renovated  zipcode      lat     long  \\\n",
       "0              0      1955             0    98178  47.5112 -122.257   \n",
       "1            400      1951          1991    98125  47.7210 -122.319   \n",
       "2              0      1933             0    98028  47.7379 -122.233   \n",
       "3            910      1965             0    98136  47.5208 -122.393   \n",
       "4              0      1987             0    98074  47.6168 -122.045   \n",
       "\n",
       "   sqft_living15  sqft_lot15  \n",
       "0           1340        5650  \n",
       "1           1690        7639  \n",
       "2           2720        8062  \n",
       "3           1360        5000  \n",
       "4           1800        7503  \n",
       "\n",
       "[5 rows x 21 columns]"
      ]
     },
     "execution_count": 1,
     "metadata": {},
     "output_type": "execute_result"
    }
   ],
   "source": [
    "import pandas as pd\n",
    "base = pd.read_csv('house-prices.csv')\n",
    "base.head()"
   ]
  },
  {
   "cell_type": "code",
   "execution_count": 2,
   "metadata": {},
   "outputs": [
    {
     "data": {
      "text/plain": [
       "(21613, 21)"
      ]
     },
     "execution_count": 2,
     "metadata": {},
     "output_type": "execute_result"
    }
   ],
   "source": [
    "base.shape"
   ]
  },
  {
   "cell_type": "code",
   "execution_count": 3,
   "metadata": {},
   "outputs": [],
   "source": [
    "X = base.iloc[:, 5:6].values\n",
    "y = base.iloc[:, 2:3].values"
   ]
  },
  {
   "cell_type": "code",
   "execution_count": 4,
   "metadata": {},
   "outputs": [
    {
     "data": {
      "text/plain": [
       "array([[1180],\n",
       "       [2570],\n",
       "       [ 770],\n",
       "       ...,\n",
       "       [1020],\n",
       "       [1600],\n",
       "       [1020]])"
      ]
     },
     "execution_count": 4,
     "metadata": {},
     "output_type": "execute_result"
    }
   ],
   "source": [
    "X"
   ]
  },
  {
   "cell_type": "code",
   "execution_count": 5,
   "metadata": {},
   "outputs": [
    {
     "data": {
      "text/plain": [
       "array([[221900.],\n",
       "       [538000.],\n",
       "       [180000.],\n",
       "       ...,\n",
       "       [402101.],\n",
       "       [400000.],\n",
       "       [325000.]])"
      ]
     },
     "execution_count": 5,
     "metadata": {},
     "output_type": "execute_result"
    }
   ],
   "source": [
    "y"
   ]
  },
  {
   "cell_type": "code",
   "execution_count": 6,
   "metadata": {},
   "outputs": [
    {
     "name": "stderr",
     "output_type": "stream",
     "text": [
      "/home/claesia/.local/lib/python3.6/site-packages/sklearn/utils/validation.py:595: DataConversionWarning: Data with input dtype int64 was converted to float64 by StandardScaler.\n",
      "  warnings.warn(msg, DataConversionWarning)\n",
      "/home/claesia/.local/lib/python3.6/site-packages/sklearn/utils/validation.py:595: DataConversionWarning: Data with input dtype int64 was converted to float64 by StandardScaler.\n",
      "  warnings.warn(msg, DataConversionWarning)\n"
     ]
    }
   ],
   "source": [
    "from sklearn.preprocessing import StandardScaler\n",
    "scaler_x = StandardScaler()\n",
    "X = scaler_x.fit_transform(X)\n",
    "scaler_y = StandardScaler()\n",
    "y = scaler_y.fit_transform(y)"
   ]
  },
  {
   "cell_type": "code",
   "execution_count": 7,
   "metadata": {
    "scrolled": true
   },
   "outputs": [
    {
     "data": {
      "text/plain": [
       "array([[-0.97983502],\n",
       "       [ 0.53363434],\n",
       "       [-1.42625404],\n",
       "       ...,\n",
       "       [-1.15404732],\n",
       "       [-0.52252773],\n",
       "       [-1.15404732]])"
      ]
     },
     "execution_count": 7,
     "metadata": {},
     "output_type": "execute_result"
    }
   ],
   "source": [
    "X"
   ]
  },
  {
   "cell_type": "code",
   "execution_count": 8,
   "metadata": {},
   "outputs": [
    {
     "data": {
      "text/plain": [
       "array([[-0.86671733],\n",
       "       [-0.00568792],\n",
       "       [-0.98084935],\n",
       "       ...,\n",
       "       [-0.37586519],\n",
       "       [-0.38158814],\n",
       "       [-0.58588173]])"
      ]
     },
     "execution_count": 8,
     "metadata": {},
     "output_type": "execute_result"
    }
   ],
   "source": [
    "y"
   ]
  },
  {
   "cell_type": "code",
   "execution_count": 9,
   "metadata": {},
   "outputs": [],
   "source": [
    "import tensorflow as tf"
   ]
  },
  {
   "cell_type": "code",
   "execution_count": 10,
   "metadata": {},
   "outputs": [],
   "source": [
    "colunas = [tf.feature_column.numeric_column('x', shape = [1])]"
   ]
  },
  {
   "cell_type": "code",
   "execution_count": 11,
   "metadata": {},
   "outputs": [
    {
     "data": {
      "text/plain": [
       "[_NumericColumn(key='x', shape=(1,), default_value=None, dtype=tf.float32, normalizer_fn=None)]"
      ]
     },
     "execution_count": 11,
     "metadata": {},
     "output_type": "execute_result"
    }
   ],
   "source": [
    "colunas"
   ]
  },
  {
   "cell_type": "code",
   "execution_count": 12,
   "metadata": {},
   "outputs": [
    {
     "name": "stdout",
     "output_type": "stream",
     "text": [
      "INFO:tensorflow:Using default config.\n",
      "WARNING:tensorflow:Using temporary folder as model directory: /tmp/tmptoj0v9ny\n",
      "INFO:tensorflow:Using config: {'_model_dir': '/tmp/tmptoj0v9ny', '_tf_random_seed': None, '_save_summary_steps': 100, '_save_checkpoints_steps': None, '_save_checkpoints_secs': 600, '_session_config': allow_soft_placement: true\n",
      "graph_options {\n",
      "  rewrite_options {\n",
      "    meta_optimizer_iterations: ONE\n",
      "  }\n",
      "}\n",
      ", '_keep_checkpoint_max': 5, '_keep_checkpoint_every_n_hours': 10000, '_log_step_count_steps': 100, '_train_distribute': None, '_device_fn': None, '_protocol': None, '_eval_distribute': None, '_experimental_distribute': None, '_service': None, '_cluster_spec': <tensorflow.python.training.server_lib.ClusterSpec object at 0x7f1df0f3df60>, '_task_type': 'worker', '_task_id': 0, '_global_id_in_cluster': 0, '_master': '', '_evaluation_master': '', '_is_chief': True, '_num_ps_replicas': 0, '_num_worker_replicas': 1}\n"
     ]
    }
   ],
   "source": [
    "regressor = tf.estimator.LinearRegressor(feature_columns=colunas)"
   ]
  },
  {
   "cell_type": "code",
   "execution_count": 13,
   "metadata": {},
   "outputs": [],
   "source": [
    "from sklearn.model_selection import train_test_split #70% treinamento 30% teste"
   ]
  },
  {
   "cell_type": "code",
   "execution_count": 14,
   "metadata": {},
   "outputs": [],
   "source": [
    "X_train, X_test, y_train, y_test = train_test_split(X, y, test_size=0.3)\n",
    "# test_size quantidade passada para teste"
   ]
  },
  {
   "cell_type": "code",
   "execution_count": 15,
   "metadata": {},
   "outputs": [
    {
     "data": {
      "text/plain": [
       "(15129, 1)"
      ]
     },
     "execution_count": 15,
     "metadata": {},
     "output_type": "execute_result"
    }
   ],
   "source": [
    "X_train.shape"
   ]
  },
  {
   "cell_type": "code",
   "execution_count": 16,
   "metadata": {},
   "outputs": [
    {
     "data": {
      "text/plain": [
       "(6484, 1)"
      ]
     },
     "execution_count": 16,
     "metadata": {},
     "output_type": "execute_result"
    }
   ],
   "source": [
    "X_test.shape"
   ]
  },
  {
   "cell_type": "code",
   "execution_count": 17,
   "metadata": {},
   "outputs": [
    {
     "data": {
      "text/plain": [
       "(15129, 1)"
      ]
     },
     "execution_count": 17,
     "metadata": {},
     "output_type": "execute_result"
    }
   ],
   "source": [
    "y_train.shape"
   ]
  },
  {
   "cell_type": "code",
   "execution_count": 18,
   "metadata": {},
   "outputs": [
    {
     "data": {
      "text/plain": [
       "(6484, 1)"
      ]
     },
     "execution_count": 18,
     "metadata": {},
     "output_type": "execute_result"
    }
   ],
   "source": [
    "y_test.shape"
   ]
  },
  {
   "cell_type": "code",
   "execution_count": 19,
   "metadata": {},
   "outputs": [],
   "source": [
    "train_function = tf.estimator.inputs.numpy_input_fn({'x': X_train}, y_train, batch_size = 32, num_epochs = None, shuffle = True)\n",
    "# no shuffle = True mistura os dados, ele sorteia os registros, sorteir 32 e mando o batch, depois mais 32... pega aleatoriamento\n",
    "#{} mesmo nome de determinou no feature_columns"
   ]
  },
  {
   "cell_type": "code",
   "execution_count": 20,
   "metadata": {},
   "outputs": [],
   "source": [
    "test_function = tf.estimator.inputs.numpy_input_fn({'x': X_test}, y_test, batch_size = 32, num_epochs = 10000, shuffle = False)\n",
    "# num_epocs controca quantas vezes será feito o treinamento"
   ]
  },
  {
   "cell_type": "code",
   "execution_count": 21,
   "metadata": {},
   "outputs": [
    {
     "name": "stdout",
     "output_type": "stream",
     "text": [
      "WARNING:tensorflow:From /home/claesia/.local/lib/python3.6/site-packages/tensorflow/python/estimator/inputs/queues/feeding_queue_runner.py:62: QueueRunner.__init__ (from tensorflow.python.training.queue_runner_impl) is deprecated and will be removed in a future version.\n",
      "Instructions for updating:\n",
      "To construct input pipelines, use the `tf.data` module.\n",
      "WARNING:tensorflow:From /home/claesia/.local/lib/python3.6/site-packages/tensorflow/python/estimator/inputs/queues/feeding_functions.py:500: add_queue_runner (from tensorflow.python.training.queue_runner_impl) is deprecated and will be removed in a future version.\n",
      "Instructions for updating:\n",
      "To construct input pipelines, use the `tf.data` module.\n",
      "INFO:tensorflow:Calling model_fn.\n",
      "INFO:tensorflow:Done calling model_fn.\n",
      "INFO:tensorflow:Create CheckpointSaverHook.\n",
      "INFO:tensorflow:Graph was finalized.\n",
      "INFO:tensorflow:Running local_init_op.\n",
      "INFO:tensorflow:Done running local_init_op.\n",
      "WARNING:tensorflow:From /home/claesia/.local/lib/python3.6/site-packages/tensorflow/python/training/monitored_session.py:804: start_queue_runners (from tensorflow.python.training.queue_runner_impl) is deprecated and will be removed in a future version.\n",
      "Instructions for updating:\n",
      "To construct input pipelines, use the `tf.data` module.\n",
      "INFO:tensorflow:Saving checkpoints for 0 into /tmp/tmptoj0v9ny/model.ckpt.\n",
      "INFO:tensorflow:loss = 20.23428, step = 1\n",
      "INFO:tensorflow:global_step/sec: 909.013\n",
      "INFO:tensorflow:loss = 5.736687, step = 101 (0.111 sec)\n",
      "INFO:tensorflow:global_step/sec: 1056.48\n",
      "INFO:tensorflow:loss = 9.075369, step = 201 (0.095 sec)\n",
      "INFO:tensorflow:global_step/sec: 816.178\n",
      "INFO:tensorflow:loss = 13.400131, step = 301 (0.123 sec)\n",
      "INFO:tensorflow:global_step/sec: 729.004\n",
      "INFO:tensorflow:loss = 14.648462, step = 401 (0.136 sec)\n",
      "INFO:tensorflow:global_step/sec: 756.89\n",
      "INFO:tensorflow:loss = 8.033108, step = 501 (0.131 sec)\n",
      "INFO:tensorflow:global_step/sec: 876.87\n",
      "INFO:tensorflow:loss = 75.58728, step = 601 (0.114 sec)\n",
      "INFO:tensorflow:global_step/sec: 773.78\n",
      "INFO:tensorflow:loss = 10.225347, step = 701 (0.129 sec)\n",
      "INFO:tensorflow:global_step/sec: 823.604\n",
      "INFO:tensorflow:loss = 26.279427, step = 801 (0.121 sec)\n",
      "INFO:tensorflow:global_step/sec: 746.691\n",
      "INFO:tensorflow:loss = 9.58507, step = 901 (0.136 sec)\n",
      "INFO:tensorflow:global_step/sec: 804.149\n",
      "INFO:tensorflow:loss = 14.28398, step = 1001 (0.123 sec)\n",
      "INFO:tensorflow:global_step/sec: 776.312\n",
      "INFO:tensorflow:loss = 5.9440866, step = 1101 (0.130 sec)\n",
      "INFO:tensorflow:global_step/sec: 825.553\n",
      "INFO:tensorflow:loss = 17.012753, step = 1201 (0.125 sec)\n",
      "INFO:tensorflow:global_step/sec: 751.779\n",
      "INFO:tensorflow:loss = 6.6923156, step = 1301 (0.128 sec)\n",
      "INFO:tensorflow:global_step/sec: 776.411\n",
      "INFO:tensorflow:loss = 19.579554, step = 1401 (0.128 sec)\n",
      "INFO:tensorflow:global_step/sec: 793.711\n",
      "INFO:tensorflow:loss = 12.152889, step = 1501 (0.128 sec)\n",
      "INFO:tensorflow:global_step/sec: 885.093\n",
      "INFO:tensorflow:loss = 9.45252, step = 1601 (0.112 sec)\n",
      "INFO:tensorflow:global_step/sec: 871.638\n",
      "INFO:tensorflow:loss = 15.303701, step = 1701 (0.115 sec)\n",
      "INFO:tensorflow:global_step/sec: 878.237\n",
      "INFO:tensorflow:loss = 13.018098, step = 1801 (0.113 sec)\n",
      "INFO:tensorflow:global_step/sec: 817.063\n",
      "INFO:tensorflow:loss = 52.66508, step = 1901 (0.123 sec)\n",
      "INFO:tensorflow:global_step/sec: 812.211\n",
      "INFO:tensorflow:loss = 9.440285, step = 2001 (0.123 sec)\n",
      "INFO:tensorflow:global_step/sec: 834.789\n",
      "INFO:tensorflow:loss = 18.17974, step = 2101 (0.120 sec)\n",
      "INFO:tensorflow:global_step/sec: 840.897\n",
      "INFO:tensorflow:loss = 6.3012805, step = 2201 (0.118 sec)\n",
      "INFO:tensorflow:global_step/sec: 906.771\n",
      "INFO:tensorflow:loss = 9.246446, step = 2301 (0.110 sec)\n",
      "INFO:tensorflow:global_step/sec: 813.401\n",
      "INFO:tensorflow:loss = 15.285597, step = 2401 (0.124 sec)\n",
      "INFO:tensorflow:global_step/sec: 844.31\n",
      "INFO:tensorflow:loss = 42.667824, step = 2501 (0.119 sec)\n",
      "INFO:tensorflow:global_step/sec: 896.062\n",
      "INFO:tensorflow:loss = 13.782707, step = 2601 (0.111 sec)\n",
      "INFO:tensorflow:global_step/sec: 811.29\n",
      "INFO:tensorflow:loss = 5.6667705, step = 2701 (0.125 sec)\n",
      "INFO:tensorflow:global_step/sec: 807.599\n",
      "INFO:tensorflow:loss = 29.97755, step = 2801 (0.122 sec)\n",
      "INFO:tensorflow:global_step/sec: 993.73\n",
      "INFO:tensorflow:loss = 13.912028, step = 2901 (0.100 sec)\n",
      "INFO:tensorflow:global_step/sec: 835.208\n",
      "INFO:tensorflow:loss = 10.122461, step = 3001 (0.120 sec)\n",
      "INFO:tensorflow:global_step/sec: 880.807\n",
      "INFO:tensorflow:loss = 5.8135414, step = 3101 (0.121 sec)\n",
      "INFO:tensorflow:global_step/sec: 815.51\n",
      "INFO:tensorflow:loss = 15.504605, step = 3201 (0.116 sec)\n",
      "INFO:tensorflow:global_step/sec: 861.917\n",
      "INFO:tensorflow:loss = 50.009373, step = 3301 (0.116 sec)\n",
      "INFO:tensorflow:global_step/sec: 881.575\n",
      "INFO:tensorflow:loss = 15.204721, step = 3401 (0.114 sec)\n",
      "INFO:tensorflow:global_step/sec: 856.648\n",
      "INFO:tensorflow:loss = 56.230453, step = 3501 (0.116 sec)\n",
      "INFO:tensorflow:global_step/sec: 859.76\n",
      "INFO:tensorflow:loss = 11.762131, step = 3601 (0.118 sec)\n",
      "INFO:tensorflow:global_step/sec: 811.146\n",
      "INFO:tensorflow:loss = 10.765566, step = 3701 (0.122 sec)\n",
      "INFO:tensorflow:global_step/sec: 840.262\n",
      "INFO:tensorflow:loss = 33.076508, step = 3801 (0.119 sec)\n",
      "INFO:tensorflow:global_step/sec: 810.465\n",
      "INFO:tensorflow:loss = 20.310238, step = 3901 (0.124 sec)\n",
      "INFO:tensorflow:global_step/sec: 849.201\n",
      "INFO:tensorflow:loss = 10.190327, step = 4001 (0.117 sec)\n",
      "INFO:tensorflow:global_step/sec: 896.454\n",
      "INFO:tensorflow:loss = 10.752645, step = 4101 (0.112 sec)\n",
      "INFO:tensorflow:global_step/sec: 833.448\n",
      "INFO:tensorflow:loss = 13.850635, step = 4201 (0.120 sec)\n",
      "INFO:tensorflow:global_step/sec: 590.799\n",
      "INFO:tensorflow:loss = 16.659504, step = 4301 (0.168 sec)\n",
      "INFO:tensorflow:global_step/sec: 879.82\n",
      "INFO:tensorflow:loss = 14.23211, step = 4401 (0.114 sec)\n",
      "INFO:tensorflow:global_step/sec: 884\n",
      "INFO:tensorflow:loss = 9.463156, step = 4501 (0.113 sec)\n",
      "INFO:tensorflow:global_step/sec: 1030.22\n",
      "INFO:tensorflow:loss = 23.585653, step = 4601 (0.097 sec)\n",
      "INFO:tensorflow:global_step/sec: 810.238\n",
      "INFO:tensorflow:loss = 14.127619, step = 4701 (0.123 sec)\n",
      "INFO:tensorflow:global_step/sec: 1010.71\n",
      "INFO:tensorflow:loss = 7.6280203, step = 4801 (0.099 sec)\n",
      "INFO:tensorflow:global_step/sec: 909.22\n",
      "INFO:tensorflow:loss = 14.492974, step = 4901 (0.111 sec)\n",
      "INFO:tensorflow:global_step/sec: 921.813\n",
      "INFO:tensorflow:loss = 11.594221, step = 5001 (0.108 sec)\n",
      "INFO:tensorflow:global_step/sec: 950.415\n",
      "INFO:tensorflow:loss = 10.28649, step = 5101 (0.105 sec)\n",
      "INFO:tensorflow:global_step/sec: 928.615\n",
      "INFO:tensorflow:loss = 9.814954, step = 5201 (0.107 sec)\n",
      "INFO:tensorflow:global_step/sec: 791.462\n",
      "INFO:tensorflow:loss = 12.548502, step = 5301 (0.127 sec)\n",
      "INFO:tensorflow:global_step/sec: 476.725\n",
      "INFO:tensorflow:loss = 10.617236, step = 5401 (0.210 sec)\n",
      "INFO:tensorflow:global_step/sec: 738.062\n",
      "INFO:tensorflow:loss = 21.09892, step = 5501 (0.135 sec)\n",
      "INFO:tensorflow:global_step/sec: 974.411\n",
      "INFO:tensorflow:loss = 8.730761, step = 5601 (0.103 sec)\n",
      "INFO:tensorflow:global_step/sec: 991.123\n",
      "INFO:tensorflow:loss = 12.192747, step = 5701 (0.101 sec)\n",
      "INFO:tensorflow:global_step/sec: 1014.79\n",
      "INFO:tensorflow:loss = 20.810366, step = 5801 (0.099 sec)\n",
      "INFO:tensorflow:global_step/sec: 911.464\n",
      "INFO:tensorflow:loss = 5.550836, step = 5901 (0.109 sec)\n",
      "INFO:tensorflow:global_step/sec: 947.313\n",
      "INFO:tensorflow:loss = 32.477173, step = 6001 (0.106 sec)\n",
      "INFO:tensorflow:global_step/sec: 955.867\n",
      "INFO:tensorflow:loss = 20.41567, step = 6101 (0.105 sec)\n",
      "INFO:tensorflow:global_step/sec: 991.02\n",
      "INFO:tensorflow:loss = 13.169317, step = 6201 (0.101 sec)\n",
      "INFO:tensorflow:global_step/sec: 1001.93\n",
      "INFO:tensorflow:loss = 7.5562367, step = 6301 (0.099 sec)\n",
      "INFO:tensorflow:global_step/sec: 943.359\n",
      "INFO:tensorflow:loss = 7.409227, step = 6401 (0.106 sec)\n",
      "INFO:tensorflow:global_step/sec: 975.327\n",
      "INFO:tensorflow:loss = 51.41022, step = 6501 (0.103 sec)\n",
      "INFO:tensorflow:global_step/sec: 853.543\n",
      "INFO:tensorflow:loss = 8.034395, step = 6601 (0.117 sec)\n",
      "INFO:tensorflow:global_step/sec: 744.323\n",
      "INFO:tensorflow:loss = 8.688767, step = 6701 (0.134 sec)\n",
      "INFO:tensorflow:global_step/sec: 875.088\n",
      "INFO:tensorflow:loss = 12.172634, step = 6801 (0.115 sec)\n",
      "INFO:tensorflow:global_step/sec: 943.348\n",
      "INFO:tensorflow:loss = 7.1583734, step = 6901 (0.105 sec)\n",
      "INFO:tensorflow:global_step/sec: 890.898\n"
     ]
    },
    {
     "name": "stdout",
     "output_type": "stream",
     "text": [
      "INFO:tensorflow:loss = 12.603737, step = 7001 (0.113 sec)\n",
      "INFO:tensorflow:global_step/sec: 343.37\n",
      "INFO:tensorflow:loss = 18.726414, step = 7101 (0.292 sec)\n",
      "INFO:tensorflow:global_step/sec: 535.114\n",
      "INFO:tensorflow:loss = 19.316784, step = 7201 (0.186 sec)\n",
      "INFO:tensorflow:global_step/sec: 953.665\n",
      "INFO:tensorflow:loss = 19.981436, step = 7301 (0.104 sec)\n",
      "INFO:tensorflow:global_step/sec: 538.174\n",
      "INFO:tensorflow:loss = 11.49175, step = 7401 (0.193 sec)\n",
      "INFO:tensorflow:global_step/sec: 517.721\n",
      "INFO:tensorflow:loss = 29.313766, step = 7501 (0.187 sec)\n",
      "INFO:tensorflow:global_step/sec: 718.693\n",
      "INFO:tensorflow:loss = 9.829049, step = 7601 (0.140 sec)\n",
      "INFO:tensorflow:global_step/sec: 418.741\n",
      "INFO:tensorflow:loss = 10.389652, step = 7701 (0.237 sec)\n",
      "INFO:tensorflow:global_step/sec: 1040.54\n",
      "INFO:tensorflow:loss = 15.094316, step = 7801 (0.096 sec)\n",
      "INFO:tensorflow:global_step/sec: 398.018\n",
      "INFO:tensorflow:loss = 12.065871, step = 7901 (0.254 sec)\n",
      "INFO:tensorflow:global_step/sec: 690.608\n",
      "INFO:tensorflow:loss = 21.372524, step = 8001 (0.143 sec)\n",
      "INFO:tensorflow:global_step/sec: 408.908\n",
      "INFO:tensorflow:loss = 29.900715, step = 8101 (0.244 sec)\n",
      "INFO:tensorflow:global_step/sec: 593.683\n",
      "INFO:tensorflow:loss = 11.217733, step = 8201 (0.168 sec)\n",
      "INFO:tensorflow:global_step/sec: 438.782\n",
      "INFO:tensorflow:loss = 17.119728, step = 8301 (0.228 sec)\n",
      "INFO:tensorflow:global_step/sec: 799.681\n",
      "INFO:tensorflow:loss = 31.392426, step = 8401 (0.130 sec)\n",
      "INFO:tensorflow:global_step/sec: 422.924\n",
      "INFO:tensorflow:loss = 19.671213, step = 8501 (0.231 sec)\n",
      "INFO:tensorflow:global_step/sec: 732.621\n",
      "INFO:tensorflow:loss = 23.067719, step = 8601 (0.144 sec)\n",
      "INFO:tensorflow:global_step/sec: 411.297\n",
      "INFO:tensorflow:loss = 11.197541, step = 8701 (0.236 sec)\n",
      "INFO:tensorflow:global_step/sec: 306.719\n",
      "INFO:tensorflow:loss = 15.194725, step = 8801 (0.326 sec)\n",
      "INFO:tensorflow:global_step/sec: 823.097\n",
      "INFO:tensorflow:loss = 11.522121, step = 8901 (0.122 sec)\n",
      "INFO:tensorflow:global_step/sec: 414.309\n",
      "INFO:tensorflow:loss = 12.074278, step = 9001 (0.241 sec)\n",
      "INFO:tensorflow:global_step/sec: 505.984\n",
      "INFO:tensorflow:loss = 10.488504, step = 9101 (0.200 sec)\n",
      "INFO:tensorflow:global_step/sec: 531.001\n",
      "INFO:tensorflow:loss = 17.406115, step = 9201 (0.186 sec)\n",
      "INFO:tensorflow:global_step/sec: 410.321\n",
      "INFO:tensorflow:loss = 8.653059, step = 9301 (0.246 sec)\n",
      "INFO:tensorflow:global_step/sec: 813.452\n",
      "INFO:tensorflow:loss = 26.440437, step = 9401 (0.120 sec)\n",
      "INFO:tensorflow:global_step/sec: 512.939\n",
      "INFO:tensorflow:loss = 11.407558, step = 9501 (0.202 sec)\n",
      "INFO:tensorflow:global_step/sec: 726.283\n",
      "INFO:tensorflow:loss = 10.904676, step = 9601 (0.132 sec)\n",
      "INFO:tensorflow:global_step/sec: 937.465\n",
      "INFO:tensorflow:loss = 8.208267, step = 9701 (0.106 sec)\n",
      "INFO:tensorflow:global_step/sec: 394.633\n",
      "INFO:tensorflow:loss = 19.287922, step = 9801 (0.253 sec)\n",
      "INFO:tensorflow:global_step/sec: 968.619\n",
      "INFO:tensorflow:loss = 8.38911, step = 9901 (0.103 sec)\n",
      "INFO:tensorflow:Saving checkpoints for 10000 into /tmp/tmptoj0v9ny/model.ckpt.\n",
      "INFO:tensorflow:Loss for final step: 11.570215.\n"
     ]
    },
    {
     "data": {
      "text/plain": [
       "<tensorflow.python.estimator.canned.linear.LinearRegressor at 0x7f1e45bf7828>"
      ]
     },
     "execution_count": 21,
     "metadata": {},
     "output_type": "execute_result"
    }
   ],
   "source": [
    "regressor.train(input_fn = train_function, steps = 10000)"
   ]
  },
  {
   "cell_type": "code",
   "execution_count": 22,
   "metadata": {},
   "outputs": [
    {
     "name": "stdout",
     "output_type": "stream",
     "text": [
      "INFO:tensorflow:Calling model_fn.\n",
      "INFO:tensorflow:Done calling model_fn.\n",
      "INFO:tensorflow:Starting evaluation at 2019-01-22-02:36:46\n",
      "INFO:tensorflow:Graph was finalized.\n",
      "INFO:tensorflow:Restoring parameters from /tmp/tmptoj0v9ny/model.ckpt-10000\n",
      "INFO:tensorflow:Running local_init_op.\n",
      "INFO:tensorflow:Done running local_init_op.\n",
      "INFO:tensorflow:Evaluation [1000/10000]\n",
      "INFO:tensorflow:Evaluation [2000/10000]\n",
      "INFO:tensorflow:Evaluation [3000/10000]\n",
      "INFO:tensorflow:Evaluation [4000/10000]\n",
      "INFO:tensorflow:Evaluation [5000/10000]\n",
      "INFO:tensorflow:Evaluation [6000/10000]\n",
      "INFO:tensorflow:Evaluation [7000/10000]\n",
      "INFO:tensorflow:Evaluation [8000/10000]\n",
      "INFO:tensorflow:Evaluation [9000/10000]\n",
      "INFO:tensorflow:Evaluation [10000/10000]\n",
      "INFO:tensorflow:Finished evaluation at 2019-01-22-02:36:56\n",
      "INFO:tensorflow:Saving dict for global step 10000: average_loss = 0.5178492, global_step = 10000, label/mean = -0.00023132737, loss = 16.571175, prediction/mean = 0.0050149355\n",
      "INFO:tensorflow:Saving 'checkpoint_path' summary for global step 10000: /tmp/tmptoj0v9ny/model.ckpt-10000\n"
     ]
    }
   ],
   "source": [
    "train_metrics = regressor.evaluate(input_fn = train_function, steps = 10000)"
   ]
  },
  {
   "cell_type": "code",
   "execution_count": 23,
   "metadata": {},
   "outputs": [
    {
     "name": "stdout",
     "output_type": "stream",
     "text": [
      "INFO:tensorflow:Calling model_fn.\n",
      "INFO:tensorflow:Done calling model_fn.\n",
      "INFO:tensorflow:Starting evaluation at 2019-01-22-02:37:25\n",
      "INFO:tensorflow:Graph was finalized.\n",
      "INFO:tensorflow:Restoring parameters from /tmp/tmptoj0v9ny/model.ckpt-10000\n",
      "INFO:tensorflow:Running local_init_op.\n",
      "INFO:tensorflow:Done running local_init_op.\n",
      "INFO:tensorflow:Evaluation [1000/10000]\n",
      "INFO:tensorflow:Evaluation [2000/10000]\n",
      "INFO:tensorflow:Evaluation [3000/10000]\n",
      "INFO:tensorflow:Evaluation [4000/10000]\n",
      "INFO:tensorflow:Evaluation [5000/10000]\n",
      "INFO:tensorflow:Evaluation [6000/10000]\n",
      "INFO:tensorflow:Evaluation [7000/10000]\n",
      "INFO:tensorflow:Evaluation [8000/10000]\n",
      "INFO:tensorflow:Evaluation [9000/10000]\n",
      "INFO:tensorflow:Evaluation [10000/10000]\n",
      "INFO:tensorflow:Finished evaluation at 2019-01-22-02:37:37\n",
      "INFO:tensorflow:Saving dict for global step 10000: average_loss = 0.4839609, global_step = 10000, label/mean = 0.0004255632, loss = 15.486749, prediction/mean = 0.0037653053\n",
      "INFO:tensorflow:Saving 'checkpoint_path' summary for global step 10000: /tmp/tmptoj0v9ny/model.ckpt-10000\n"
     ]
    }
   ],
   "source": [
    "test_metrics = regressor.evaluate(input_fn = test_function, steps = 10000)"
   ]
  },
  {
   "cell_type": "code",
   "execution_count": 24,
   "metadata": {},
   "outputs": [
    {
     "data": {
      "text/plain": [
       "{'average_loss': 0.5178492,\n",
       " 'label/mean': -0.00023132737,\n",
       " 'loss': 16.571175,\n",
       " 'prediction/mean': 0.0050149355,\n",
       " 'global_step': 10000}"
      ]
     },
     "execution_count": 24,
     "metadata": {},
     "output_type": "execute_result"
    }
   ],
   "source": [
    "train_metrics"
   ]
  },
  {
   "cell_type": "code",
   "execution_count": 25,
   "metadata": {},
   "outputs": [
    {
     "data": {
      "text/plain": [
       "{'average_loss': 0.4839609,\n",
       " 'label/mean': 0.0004255632,\n",
       " 'loss': 15.486749,\n",
       " 'prediction/mean': 0.0037653053,\n",
       " 'global_step': 10000}"
      ]
     },
     "execution_count": 25,
     "metadata": {},
     "output_type": "execute_result"
    }
   ],
   "source": [
    "test_metrics"
   ]
  },
  {
   "cell_type": "code",
   "execution_count": 26,
   "metadata": {},
   "outputs": [
    {
     "data": {
      "text/plain": [
       "array([[ 800],\n",
       "       [ 900],\n",
       "       [1000]])"
      ]
     },
     "execution_count": 26,
     "metadata": {},
     "output_type": "execute_result"
    }
   ],
   "source": [
    "import numpy as np\n",
    "novas_casas = np.array([[800], [900], [1000]])\n",
    "novas_casas"
   ]
  },
  {
   "cell_type": "code",
   "execution_count": 27,
   "metadata": {},
   "outputs": [
    {
     "name": "stderr",
     "output_type": "stream",
     "text": [
      "/home/claesia/.local/lib/python3.6/site-packages/sklearn/utils/validation.py:595: DataConversionWarning: Data with input dtype int64 was converted to float64 by StandardScaler.\n",
      "  warnings.warn(msg, DataConversionWarning)\n",
      "/home/claesia/.local/lib/python3.6/site-packages/sklearn/utils/validation.py:595: DataConversionWarning: Data with input dtype int64 was converted to float64 by StandardScaler.\n",
      "  warnings.warn(msg, DataConversionWarning)\n"
     ]
    },
    {
     "data": {
      "text/plain": [
       "array([[-1.22474487],\n",
       "       [ 0.        ],\n",
       "       [ 1.22474487]])"
      ]
     },
     "execution_count": 27,
     "metadata": {},
     "output_type": "execute_result"
    }
   ],
   "source": [
    "from sklearn.preprocessing import StandardScaler\n",
    "scaler_x = StandardScaler()\n",
    "novas_casas = scaler_x.fit_transform(novas_casas)\n",
    "novas_casas"
   ]
  },
  {
   "cell_type": "code",
   "execution_count": 28,
   "metadata": {},
   "outputs": [],
   "source": [
    "funcao_previsao = tf.estimator.inputs.numpy_input_fn({'x': novas_casas}, shuffle = True)"
   ]
  },
  {
   "cell_type": "code",
   "execution_count": 29,
   "metadata": {},
   "outputs": [],
   "source": [
    "previsoes = regressor.predict(input_fn = funcao_previsao)"
   ]
  },
  {
   "cell_type": "code",
   "execution_count": 30,
   "metadata": {},
   "outputs": [
    {
     "data": {
      "text/plain": [
       "<generator object Estimator.predict at 0x7f1ded02c0a0>"
      ]
     },
     "execution_count": 30,
     "metadata": {},
     "output_type": "execute_result"
    }
   ],
   "source": [
    "previsoes"
   ]
  },
  {
   "cell_type": "code",
   "execution_count": 31,
   "metadata": {},
   "outputs": [
    {
     "name": "stdout",
     "output_type": "stream",
     "text": [
      "INFO:tensorflow:Calling model_fn.\n",
      "INFO:tensorflow:Done calling model_fn.\n",
      "INFO:tensorflow:Graph was finalized.\n",
      "INFO:tensorflow:Restoring parameters from /tmp/tmptoj0v9ny/model.ckpt-10000\n",
      "INFO:tensorflow:Running local_init_op.\n",
      "INFO:tensorflow:Done running local_init_op.\n"
     ]
    },
    {
     "data": {
      "text/plain": [
       "[{'predictions': array([0.88592875], dtype=float32)},\n",
       " {'predictions': array([-0.8765757], dtype=float32)},\n",
       " {'predictions': array([0.00467653], dtype=float32)}]"
      ]
     },
     "execution_count": 31,
     "metadata": {},
     "output_type": "execute_result"
    }
   ],
   "source": [
    "list(previsoes)"
   ]
  },
  {
   "cell_type": "code",
   "execution_count": 32,
   "metadata": {},
   "outputs": [
    {
     "name": "stdout",
     "output_type": "stream",
     "text": [
      "INFO:tensorflow:Calling model_fn.\n",
      "INFO:tensorflow:Done calling model_fn.\n",
      "INFO:tensorflow:Graph was finalized.\n",
      "INFO:tensorflow:Restoring parameters from /tmp/tmptoj0v9ny/model.ckpt-10000\n",
      "INFO:tensorflow:Running local_init_op.\n",
      "INFO:tensorflow:Done running local_init_op.\n",
      "[218280.8]\n",
      "[865329.1]\n",
      "[541805.]\n"
     ]
    }
   ],
   "source": [
    "for p in regressor.predict(input_fn = funcao_previsao):\n",
    "    #print(p['predictions'])\n",
    "    print(scaler_y.inverse_transform(p['predictions']))"
   ]
  },
  {
   "cell_type": "code",
   "execution_count": null,
   "metadata": {},
   "outputs": [],
   "source": []
  }
 ],
 "metadata": {
  "kernelspec": {
   "display_name": "Python 3",
   "language": "python",
   "name": "python3"
  },
  "language_info": {
   "codemirror_mode": {
    "name": "ipython",
    "version": 3
   },
   "file_extension": ".py",
   "mimetype": "text/x-python",
   "name": "python",
   "nbconvert_exporter": "python",
   "pygments_lexer": "ipython3",
   "version": "3.6.7"
  }
 },
 "nbformat": 4,
 "nbformat_minor": 2
}
