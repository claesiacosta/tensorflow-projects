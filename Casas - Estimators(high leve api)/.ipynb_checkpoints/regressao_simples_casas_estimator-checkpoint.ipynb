{
 "cells": [
  {
   "cell_type": "code",
   "execution_count": 1,
   "metadata": {},
   "outputs": [
    {
     "data": {
      "text/html": [
       "<div>\n",
       "<style scoped>\n",
       "    .dataframe tbody tr th:only-of-type {\n",
       "        vertical-align: middle;\n",
       "    }\n",
       "\n",
       "    .dataframe tbody tr th {\n",
       "        vertical-align: top;\n",
       "    }\n",
       "\n",
       "    .dataframe thead th {\n",
       "        text-align: right;\n",
       "    }\n",
       "</style>\n",
       "<table border=\"1\" class=\"dataframe\">\n",
       "  <thead>\n",
       "    <tr style=\"text-align: right;\">\n",
       "      <th></th>\n",
       "      <th>id</th>\n",
       "      <th>date</th>\n",
       "      <th>price</th>\n",
       "      <th>bedrooms</th>\n",
       "      <th>bathrooms</th>\n",
       "      <th>sqft_living</th>\n",
       "      <th>sqft_lot</th>\n",
       "      <th>floors</th>\n",
       "      <th>waterfront</th>\n",
       "      <th>view</th>\n",
       "      <th>...</th>\n",
       "      <th>grade</th>\n",
       "      <th>sqft_above</th>\n",
       "      <th>sqft_basement</th>\n",
       "      <th>yr_built</th>\n",
       "      <th>yr_renovated</th>\n",
       "      <th>zipcode</th>\n",
       "      <th>lat</th>\n",
       "      <th>long</th>\n",
       "      <th>sqft_living15</th>\n",
       "      <th>sqft_lot15</th>\n",
       "    </tr>\n",
       "  </thead>\n",
       "  <tbody>\n",
       "    <tr>\n",
       "      <th>0</th>\n",
       "      <td>7129300520</td>\n",
       "      <td>20141013T000000</td>\n",
       "      <td>221900.0</td>\n",
       "      <td>3</td>\n",
       "      <td>1.00</td>\n",
       "      <td>1180</td>\n",
       "      <td>5650</td>\n",
       "      <td>1.0</td>\n",
       "      <td>0</td>\n",
       "      <td>0</td>\n",
       "      <td>...</td>\n",
       "      <td>7</td>\n",
       "      <td>1180</td>\n",
       "      <td>0</td>\n",
       "      <td>1955</td>\n",
       "      <td>0</td>\n",
       "      <td>98178</td>\n",
       "      <td>47.5112</td>\n",
       "      <td>-122.257</td>\n",
       "      <td>1340</td>\n",
       "      <td>5650</td>\n",
       "    </tr>\n",
       "    <tr>\n",
       "      <th>1</th>\n",
       "      <td>6414100192</td>\n",
       "      <td>20141209T000000</td>\n",
       "      <td>538000.0</td>\n",
       "      <td>3</td>\n",
       "      <td>2.25</td>\n",
       "      <td>2570</td>\n",
       "      <td>7242</td>\n",
       "      <td>2.0</td>\n",
       "      <td>0</td>\n",
       "      <td>0</td>\n",
       "      <td>...</td>\n",
       "      <td>7</td>\n",
       "      <td>2170</td>\n",
       "      <td>400</td>\n",
       "      <td>1951</td>\n",
       "      <td>1991</td>\n",
       "      <td>98125</td>\n",
       "      <td>47.7210</td>\n",
       "      <td>-122.319</td>\n",
       "      <td>1690</td>\n",
       "      <td>7639</td>\n",
       "    </tr>\n",
       "    <tr>\n",
       "      <th>2</th>\n",
       "      <td>5631500400</td>\n",
       "      <td>20150225T000000</td>\n",
       "      <td>180000.0</td>\n",
       "      <td>2</td>\n",
       "      <td>1.00</td>\n",
       "      <td>770</td>\n",
       "      <td>10000</td>\n",
       "      <td>1.0</td>\n",
       "      <td>0</td>\n",
       "      <td>0</td>\n",
       "      <td>...</td>\n",
       "      <td>6</td>\n",
       "      <td>770</td>\n",
       "      <td>0</td>\n",
       "      <td>1933</td>\n",
       "      <td>0</td>\n",
       "      <td>98028</td>\n",
       "      <td>47.7379</td>\n",
       "      <td>-122.233</td>\n",
       "      <td>2720</td>\n",
       "      <td>8062</td>\n",
       "    </tr>\n",
       "    <tr>\n",
       "      <th>3</th>\n",
       "      <td>2487200875</td>\n",
       "      <td>20141209T000000</td>\n",
       "      <td>604000.0</td>\n",
       "      <td>4</td>\n",
       "      <td>3.00</td>\n",
       "      <td>1960</td>\n",
       "      <td>5000</td>\n",
       "      <td>1.0</td>\n",
       "      <td>0</td>\n",
       "      <td>0</td>\n",
       "      <td>...</td>\n",
       "      <td>7</td>\n",
       "      <td>1050</td>\n",
       "      <td>910</td>\n",
       "      <td>1965</td>\n",
       "      <td>0</td>\n",
       "      <td>98136</td>\n",
       "      <td>47.5208</td>\n",
       "      <td>-122.393</td>\n",
       "      <td>1360</td>\n",
       "      <td>5000</td>\n",
       "    </tr>\n",
       "    <tr>\n",
       "      <th>4</th>\n",
       "      <td>1954400510</td>\n",
       "      <td>20150218T000000</td>\n",
       "      <td>510000.0</td>\n",
       "      <td>3</td>\n",
       "      <td>2.00</td>\n",
       "      <td>1680</td>\n",
       "      <td>8080</td>\n",
       "      <td>1.0</td>\n",
       "      <td>0</td>\n",
       "      <td>0</td>\n",
       "      <td>...</td>\n",
       "      <td>8</td>\n",
       "      <td>1680</td>\n",
       "      <td>0</td>\n",
       "      <td>1987</td>\n",
       "      <td>0</td>\n",
       "      <td>98074</td>\n",
       "      <td>47.6168</td>\n",
       "      <td>-122.045</td>\n",
       "      <td>1800</td>\n",
       "      <td>7503</td>\n",
       "    </tr>\n",
       "  </tbody>\n",
       "</table>\n",
       "<p>5 rows × 21 columns</p>\n",
       "</div>"
      ],
      "text/plain": [
       "           id             date     price  bedrooms  bathrooms  sqft_living  \\\n",
       "0  7129300520  20141013T000000  221900.0         3       1.00         1180   \n",
       "1  6414100192  20141209T000000  538000.0         3       2.25         2570   \n",
       "2  5631500400  20150225T000000  180000.0         2       1.00          770   \n",
       "3  2487200875  20141209T000000  604000.0         4       3.00         1960   \n",
       "4  1954400510  20150218T000000  510000.0         3       2.00         1680   \n",
       "\n",
       "   sqft_lot  floors  waterfront  view     ...      grade  sqft_above  \\\n",
       "0      5650     1.0           0     0     ...          7        1180   \n",
       "1      7242     2.0           0     0     ...          7        2170   \n",
       "2     10000     1.0           0     0     ...          6         770   \n",
       "3      5000     1.0           0     0     ...          7        1050   \n",
       "4      8080     1.0           0     0     ...          8        1680   \n",
       "\n",
       "   sqft_basement  yr_built  yr_renovated  zipcode      lat     long  \\\n",
       "0              0      1955             0    98178  47.5112 -122.257   \n",
       "1            400      1951          1991    98125  47.7210 -122.319   \n",
       "2              0      1933             0    98028  47.7379 -122.233   \n",
       "3            910      1965             0    98136  47.5208 -122.393   \n",
       "4              0      1987             0    98074  47.6168 -122.045   \n",
       "\n",
       "   sqft_living15  sqft_lot15  \n",
       "0           1340        5650  \n",
       "1           1690        7639  \n",
       "2           2720        8062  \n",
       "3           1360        5000  \n",
       "4           1800        7503  \n",
       "\n",
       "[5 rows x 21 columns]"
      ]
     },
     "execution_count": 1,
     "metadata": {},
     "output_type": "execute_result"
    }
   ],
   "source": [
    "import pandas as pd\n",
    "base = pd.read_csv('house-prices.csv')\n",
    "base.head()"
   ]
  },
  {
   "cell_type": "code",
   "execution_count": 2,
   "metadata": {},
   "outputs": [
    {
     "data": {
      "text/plain": [
       "(21613, 21)"
      ]
     },
     "execution_count": 2,
     "metadata": {},
     "output_type": "execute_result"
    }
   ],
   "source": [
    "base.shape"
   ]
  },
  {
   "cell_type": "code",
   "execution_count": 3,
   "metadata": {},
   "outputs": [],
   "source": [
    "X = base.iloc[:, 5:6].values\n",
    "y = base.iloc[:, 2:3].values"
   ]
  },
  {
   "cell_type": "code",
   "execution_count": 4,
   "metadata": {},
   "outputs": [
    {
     "data": {
      "text/plain": [
       "array([[1180],\n",
       "       [2570],\n",
       "       [ 770],\n",
       "       ...,\n",
       "       [1020],\n",
       "       [1600],\n",
       "       [1020]])"
      ]
     },
     "execution_count": 4,
     "metadata": {},
     "output_type": "execute_result"
    }
   ],
   "source": [
    "X"
   ]
  },
  {
   "cell_type": "code",
   "execution_count": 5,
   "metadata": {},
   "outputs": [
    {
     "data": {
      "text/plain": [
       "array([[221900.],\n",
       "       [538000.],\n",
       "       [180000.],\n",
       "       ...,\n",
       "       [402101.],\n",
       "       [400000.],\n",
       "       [325000.]])"
      ]
     },
     "execution_count": 5,
     "metadata": {},
     "output_type": "execute_result"
    }
   ],
   "source": [
    "y"
   ]
  },
  {
   "cell_type": "code",
   "execution_count": 6,
   "metadata": {},
   "outputs": [
    {
     "name": "stderr",
     "output_type": "stream",
     "text": [
      "/home/claesia/.local/lib/python3.6/site-packages/sklearn/utils/validation.py:595: DataConversionWarning: Data with input dtype int64 was converted to float64 by StandardScaler.\n",
      "  warnings.warn(msg, DataConversionWarning)\n",
      "/home/claesia/.local/lib/python3.6/site-packages/sklearn/utils/validation.py:595: DataConversionWarning: Data with input dtype int64 was converted to float64 by StandardScaler.\n",
      "  warnings.warn(msg, DataConversionWarning)\n"
     ]
    }
   ],
   "source": [
    "from sklearn.preprocessing import StandardScaler\n",
    "scaler_x = StandardScaler()\n",
    "X = scaler_x.fit_transform(X)\n",
    "scaler_y = StandardScaler()\n",
    "y = scaler_y.fit_transform(y)"
   ]
  },
  {
   "cell_type": "code",
   "execution_count": 7,
   "metadata": {
    "scrolled": true
   },
   "outputs": [
    {
     "data": {
      "text/plain": [
       "array([[-0.97983502],\n",
       "       [ 0.53363434],\n",
       "       [-1.42625404],\n",
       "       ...,\n",
       "       [-1.15404732],\n",
       "       [-0.52252773],\n",
       "       [-1.15404732]])"
      ]
     },
     "execution_count": 7,
     "metadata": {},
     "output_type": "execute_result"
    }
   ],
   "source": [
    "X"
   ]
  },
  {
   "cell_type": "code",
   "execution_count": 8,
   "metadata": {},
   "outputs": [
    {
     "data": {
      "text/plain": [
       "array([[-0.86671733],\n",
       "       [-0.00568792],\n",
       "       [-0.98084935],\n",
       "       ...,\n",
       "       [-0.37586519],\n",
       "       [-0.38158814],\n",
       "       [-0.58588173]])"
      ]
     },
     "execution_count": 8,
     "metadata": {},
     "output_type": "execute_result"
    }
   ],
   "source": [
    "y"
   ]
  },
  {
   "cell_type": "code",
   "execution_count": 9,
   "metadata": {},
   "outputs": [],
   "source": [
    "import tensorflow as tf"
   ]
  },
  {
   "cell_type": "code",
   "execution_count": 10,
   "metadata": {},
   "outputs": [],
   "source": [
    "colunas = [tf.feature_column.numeric_column('x', shape = [1])]"
   ]
  },
  {
   "cell_type": "code",
   "execution_count": 11,
   "metadata": {},
   "outputs": [
    {
     "data": {
      "text/plain": [
       "[_NumericColumn(key='x', shape=(1,), default_value=None, dtype=tf.float32, normalizer_fn=None)]"
      ]
     },
     "execution_count": 11,
     "metadata": {},
     "output_type": "execute_result"
    }
   ],
   "source": [
    "colunas"
   ]
  },
  {
   "cell_type": "code",
   "execution_count": 12,
   "metadata": {},
   "outputs": [
    {
     "name": "stdout",
     "output_type": "stream",
     "text": [
      "INFO:tensorflow:Using default config.\n",
      "WARNING:tensorflow:Using temporary folder as model directory: /tmp/tmpin9f9p6r\n",
      "INFO:tensorflow:Using config: {'_model_dir': '/tmp/tmpin9f9p6r', '_tf_random_seed': None, '_save_summary_steps': 100, '_save_checkpoints_steps': None, '_save_checkpoints_secs': 600, '_session_config': allow_soft_placement: true\n",
      "graph_options {\n",
      "  rewrite_options {\n",
      "    meta_optimizer_iterations: ONE\n",
      "  }\n",
      "}\n",
      ", '_keep_checkpoint_max': 5, '_keep_checkpoint_every_n_hours': 10000, '_log_step_count_steps': 100, '_train_distribute': None, '_device_fn': None, '_protocol': None, '_eval_distribute': None, '_experimental_distribute': None, '_service': None, '_cluster_spec': <tensorflow.python.training.server_lib.ClusterSpec object at 0x7f9ebfe8dc88>, '_task_type': 'worker', '_task_id': 0, '_global_id_in_cluster': 0, '_master': '', '_evaluation_master': '', '_is_chief': True, '_num_ps_replicas': 0, '_num_worker_replicas': 1}\n"
     ]
    }
   ],
   "source": [
    "regressor = tf.estimator.LinearRegressor(feature_columns=colunas)"
   ]
  },
  {
   "cell_type": "code",
   "execution_count": 13,
   "metadata": {},
   "outputs": [],
   "source": [
    "from sklearn.model_selection import train_test_split #70% treinamento 30% teste"
   ]
  },
  {
   "cell_type": "code",
   "execution_count": 38,
   "metadata": {},
   "outputs": [],
   "source": [
    "X_train, X_test, y_train, y_test = train_test_split(X, y, test_size=0.3)\n",
    "# test_size quantidade passada para teste"
   ]
  },
  {
   "cell_type": "code",
   "execution_count": 39,
   "metadata": {},
   "outputs": [
    {
     "data": {
      "text/plain": [
       "(15129, 1)"
      ]
     },
     "execution_count": 39,
     "metadata": {},
     "output_type": "execute_result"
    }
   ],
   "source": [
    "X_train.shape"
   ]
  },
  {
   "cell_type": "code",
   "execution_count": 40,
   "metadata": {},
   "outputs": [
    {
     "data": {
      "text/plain": [
       "(6484, 1)"
      ]
     },
     "execution_count": 40,
     "metadata": {},
     "output_type": "execute_result"
    }
   ],
   "source": [
    "X_test.shape"
   ]
  },
  {
   "cell_type": "code",
   "execution_count": 41,
   "metadata": {},
   "outputs": [
    {
     "data": {
      "text/plain": [
       "(15129, 1)"
      ]
     },
     "execution_count": 41,
     "metadata": {},
     "output_type": "execute_result"
    }
   ],
   "source": [
    "y_train.shape"
   ]
  },
  {
   "cell_type": "code",
   "execution_count": 42,
   "metadata": {},
   "outputs": [
    {
     "data": {
      "text/plain": [
       "(6484, 1)"
      ]
     },
     "execution_count": 42,
     "metadata": {},
     "output_type": "execute_result"
    }
   ],
   "source": [
    "y_test.shape"
   ]
  },
  {
   "cell_type": "code",
   "execution_count": 43,
   "metadata": {},
   "outputs": [],
   "source": [
    "train_function = tf.estimator.inputs.numpy_input_fn({'x': X_train}, y_train, batch_size = 32, num_epochs = None, shuffle = True)\n",
    "# no shuffle = True ele sorteia os registros, sorteir 32 e mando o batch, depois mais 32... pega aleatoriamento\n",
    "#{} mesmo nome de determinou no feature_columns"
   ]
  },
  {
   "cell_type": "code",
   "execution_count": 44,
   "metadata": {},
   "outputs": [],
   "source": [
    "test_function = tf.estimator.inputs.numpy_input_fn({'x': X_test}, y_test, batch_size = 32, num_epochs = 1000, shuffle = False)\n",
    "# num_epocs controca quantas vezes será feito o treinamento"
   ]
  },
  {
   "cell_type": "code",
   "execution_count": 45,
   "metadata": {},
   "outputs": [
    {
     "name": "stdout",
     "output_type": "stream",
     "text": [
      "INFO:tensorflow:Calling model_fn.\n",
      "INFO:tensorflow:Done calling model_fn.\n",
      "INFO:tensorflow:Create CheckpointSaverHook.\n",
      "INFO:tensorflow:Graph was finalized.\n",
      "INFO:tensorflow:Restoring parameters from /tmp/tmpin9f9p6r/model.ckpt-10000\n",
      "INFO:tensorflow:Running local_init_op.\n",
      "INFO:tensorflow:Done running local_init_op.\n",
      "INFO:tensorflow:Saving checkpoints for 10000 into /tmp/tmpin9f9p6r/model.ckpt.\n",
      "INFO:tensorflow:loss = 19.213757, step = 10001\n",
      "INFO:tensorflow:global_step/sec: 779.35\n",
      "INFO:tensorflow:loss = 11.0097885, step = 10101 (0.130 sec)\n",
      "INFO:tensorflow:global_step/sec: 943.581\n",
      "INFO:tensorflow:loss = 12.05861, step = 10201 (0.106 sec)\n",
      "INFO:tensorflow:global_step/sec: 942.472\n",
      "INFO:tensorflow:loss = 9.002465, step = 10301 (0.106 sec)\n",
      "INFO:tensorflow:global_step/sec: 943.736\n",
      "INFO:tensorflow:loss = 13.068051, step = 10401 (0.105 sec)\n",
      "INFO:tensorflow:global_step/sec: 820.456\n",
      "INFO:tensorflow:loss = 13.144909, step = 10501 (0.125 sec)\n",
      "INFO:tensorflow:global_step/sec: 616.507\n",
      "INFO:tensorflow:loss = 17.148184, step = 10601 (0.162 sec)\n",
      "INFO:tensorflow:global_step/sec: 342.833\n",
      "INFO:tensorflow:loss = 12.484634, step = 10701 (0.289 sec)\n",
      "INFO:tensorflow:global_step/sec: 883.008\n",
      "INFO:tensorflow:loss = 7.573314, step = 10801 (0.113 sec)\n",
      "INFO:tensorflow:global_step/sec: 711.155\n",
      "INFO:tensorflow:loss = 13.8449745, step = 10901 (0.141 sec)\n",
      "INFO:tensorflow:global_step/sec: 751.834\n",
      "INFO:tensorflow:loss = 7.7245064, step = 11001 (0.133 sec)\n",
      "INFO:tensorflow:global_step/sec: 787.806\n",
      "INFO:tensorflow:loss = 16.056055, step = 11101 (0.129 sec)\n",
      "INFO:tensorflow:global_step/sec: 524.873\n",
      "INFO:tensorflow:loss = 6.5764194, step = 11201 (0.193 sec)\n",
      "INFO:tensorflow:global_step/sec: 351.039\n",
      "INFO:tensorflow:loss = 13.994135, step = 11301 (0.280 sec)\n",
      "INFO:tensorflow:global_step/sec: 990.398\n",
      "INFO:tensorflow:loss = 19.821903, step = 11401 (0.103 sec)\n",
      "INFO:tensorflow:global_step/sec: 808.926\n",
      "INFO:tensorflow:loss = 19.176897, step = 11501 (0.123 sec)\n",
      "INFO:tensorflow:global_step/sec: 924.344\n",
      "INFO:tensorflow:loss = 15.802737, step = 11601 (0.108 sec)\n",
      "INFO:tensorflow:global_step/sec: 852.326\n",
      "INFO:tensorflow:loss = 9.622346, step = 11701 (0.118 sec)\n",
      "INFO:tensorflow:global_step/sec: 507.758\n",
      "INFO:tensorflow:loss = 12.73262, step = 11801 (0.198 sec)\n",
      "INFO:tensorflow:global_step/sec: 481.648\n",
      "INFO:tensorflow:loss = 7.4475446, step = 11901 (0.205 sec)\n",
      "INFO:tensorflow:global_step/sec: 838.532\n",
      "INFO:tensorflow:loss = 8.549203, step = 12001 (0.122 sec)\n",
      "INFO:tensorflow:global_step/sec: 826.775\n",
      "INFO:tensorflow:loss = 4.7647533, step = 12101 (0.119 sec)\n",
      "INFO:tensorflow:global_step/sec: 535.615\n",
      "INFO:tensorflow:loss = 14.008978, step = 12201 (0.189 sec)\n",
      "INFO:tensorflow:global_step/sec: 418.539\n",
      "INFO:tensorflow:loss = 17.068768, step = 12301 (0.237 sec)\n",
      "INFO:tensorflow:global_step/sec: 852.924\n",
      "INFO:tensorflow:loss = 12.037296, step = 12401 (0.117 sec)\n",
      "INFO:tensorflow:global_step/sec: 824.556\n",
      "INFO:tensorflow:loss = 10.405392, step = 12501 (0.121 sec)\n",
      "INFO:tensorflow:global_step/sec: 990.339\n",
      "INFO:tensorflow:loss = 12.646144, step = 12601 (0.102 sec)\n",
      "INFO:tensorflow:global_step/sec: 794.663\n",
      "INFO:tensorflow:loss = 19.108679, step = 12701 (0.125 sec)\n",
      "INFO:tensorflow:global_step/sec: 781.599\n",
      "INFO:tensorflow:loss = 84.57098, step = 12801 (0.130 sec)\n",
      "INFO:tensorflow:global_step/sec: 788.259\n",
      "INFO:tensorflow:loss = 6.714284, step = 12901 (0.125 sec)\n",
      "INFO:tensorflow:global_step/sec: 455.361\n",
      "INFO:tensorflow:loss = 12.529585, step = 13001 (0.220 sec)\n",
      "INFO:tensorflow:global_step/sec: 517.744\n",
      "INFO:tensorflow:loss = 14.850042, step = 13101 (0.195 sec)\n",
      "INFO:tensorflow:global_step/sec: 869.466\n",
      "INFO:tensorflow:loss = 23.895859, step = 13201 (0.114 sec)\n",
      "INFO:tensorflow:global_step/sec: 838.527\n",
      "INFO:tensorflow:loss = 6.803401, step = 13301 (0.121 sec)\n",
      "INFO:tensorflow:global_step/sec: 786.011\n",
      "INFO:tensorflow:loss = 6.977808, step = 13401 (0.126 sec)\n",
      "INFO:tensorflow:global_step/sec: 766.876\n",
      "INFO:tensorflow:loss = 7.575479, step = 13501 (0.129 sec)\n",
      "INFO:tensorflow:global_step/sec: 839.502\n",
      "INFO:tensorflow:loss = 11.86204, step = 13601 (0.119 sec)\n",
      "INFO:tensorflow:global_step/sec: 331.36\n",
      "INFO:tensorflow:loss = 15.233689, step = 13701 (0.302 sec)\n",
      "INFO:tensorflow:global_step/sec: 818.843\n",
      "INFO:tensorflow:loss = 9.649471, step = 13801 (0.121 sec)\n",
      "INFO:tensorflow:global_step/sec: 837.83\n",
      "INFO:tensorflow:loss = 14.0361395, step = 13901 (0.119 sec)\n",
      "INFO:tensorflow:global_step/sec: 860.097\n",
      "INFO:tensorflow:loss = 11.47426, step = 14001 (0.117 sec)\n",
      "INFO:tensorflow:global_step/sec: 536.816\n",
      "INFO:tensorflow:loss = 20.325747, step = 14101 (0.188 sec)\n",
      "INFO:tensorflow:global_step/sec: 480.189\n",
      "INFO:tensorflow:loss = 8.608332, step = 14201 (0.206 sec)\n",
      "INFO:tensorflow:global_step/sec: 994.594\n",
      "INFO:tensorflow:loss = 6.885584, step = 14301 (0.102 sec)\n",
      "INFO:tensorflow:global_step/sec: 848.11\n",
      "INFO:tensorflow:loss = 10.65283, step = 14401 (0.117 sec)\n",
      "INFO:tensorflow:global_step/sec: 784.272\n",
      "INFO:tensorflow:loss = 14.789471, step = 14501 (0.128 sec)\n",
      "INFO:tensorflow:global_step/sec: 864.016\n",
      "INFO:tensorflow:loss = 15.796992, step = 14601 (0.116 sec)\n",
      "INFO:tensorflow:global_step/sec: 535.046\n",
      "INFO:tensorflow:loss = 80.71259, step = 14701 (0.190 sec)\n",
      "INFO:tensorflow:global_step/sec: 445.174\n",
      "INFO:tensorflow:loss = 5.7192163, step = 14801 (0.222 sec)\n",
      "INFO:tensorflow:global_step/sec: 1034.24\n",
      "INFO:tensorflow:loss = 44.704407, step = 14901 (0.097 sec)\n",
      "INFO:tensorflow:global_step/sec: 801.342\n",
      "INFO:tensorflow:loss = 22.385593, step = 15001 (0.125 sec)\n",
      "INFO:tensorflow:global_step/sec: 940.935\n",
      "INFO:tensorflow:loss = 9.703706, step = 15101 (0.108 sec)\n",
      "INFO:tensorflow:global_step/sec: 893.71\n",
      "INFO:tensorflow:loss = 6.3960443, step = 15201 (0.110 sec)\n",
      "INFO:tensorflow:global_step/sec: 936.27\n",
      "INFO:tensorflow:loss = 10.174885, step = 15301 (0.107 sec)\n",
      "INFO:tensorflow:global_step/sec: 923.687\n",
      "INFO:tensorflow:loss = 11.0918865, step = 15401 (0.107 sec)\n",
      "INFO:tensorflow:global_step/sec: 1001.06\n",
      "INFO:tensorflow:loss = 36.709606, step = 15501 (0.100 sec)\n",
      "INFO:tensorflow:global_step/sec: 1011.55\n",
      "INFO:tensorflow:loss = 16.112238, step = 15601 (0.099 sec)\n",
      "INFO:tensorflow:global_step/sec: 999.222\n",
      "INFO:tensorflow:loss = 12.444542, step = 15701 (0.100 sec)\n",
      "INFO:tensorflow:global_step/sec: 332.786\n",
      "INFO:tensorflow:loss = 10.073129, step = 15801 (0.304 sec)\n",
      "INFO:tensorflow:global_step/sec: 394.628\n",
      "INFO:tensorflow:loss = 14.805285, step = 15901 (0.251 sec)\n",
      "INFO:tensorflow:global_step/sec: 371.777\n",
      "INFO:tensorflow:loss = 5.3281264, step = 16001 (0.273 sec)\n",
      "INFO:tensorflow:global_step/sec: 407.974\n",
      "INFO:tensorflow:loss = 8.649071, step = 16101 (0.244 sec)\n",
      "INFO:tensorflow:global_step/sec: 442.343\n",
      "INFO:tensorflow:loss = 5.191905, step = 16201 (0.223 sec)\n",
      "INFO:tensorflow:global_step/sec: 422.629\n",
      "INFO:tensorflow:loss = 17.131111, step = 16301 (0.238 sec)\n",
      "INFO:tensorflow:global_step/sec: 325.692\n",
      "INFO:tensorflow:loss = 12.786558, step = 16401 (0.305 sec)\n",
      "INFO:tensorflow:global_step/sec: 887.884\n",
      "INFO:tensorflow:loss = 12.018861, step = 16501 (0.113 sec)\n",
      "INFO:tensorflow:global_step/sec: 719.266\n",
      "INFO:tensorflow:loss = 8.478882, step = 16601 (0.144 sec)\n",
      "INFO:tensorflow:global_step/sec: 357.187\n",
      "INFO:tensorflow:loss = 24.307137, step = 16701 (0.275 sec)\n",
      "INFO:tensorflow:global_step/sec: 974.207\n",
      "INFO:tensorflow:loss = 14.66917, step = 16801 (0.104 sec)\n",
      "INFO:tensorflow:global_step/sec: 851.421\n",
      "INFO:tensorflow:loss = 17.938763, step = 16901 (0.118 sec)\n",
      "INFO:tensorflow:global_step/sec: 850.099\n",
      "INFO:tensorflow:loss = 11.366912, step = 17001 (0.116 sec)\n",
      "INFO:tensorflow:global_step/sec: 845.04\n",
      "INFO:tensorflow:loss = 7.713953, step = 17101 (0.119 sec)\n",
      "INFO:tensorflow:global_step/sec: 857.135\n",
      "INFO:tensorflow:loss = 6.609823, step = 17201 (0.116 sec)\n",
      "INFO:tensorflow:global_step/sec: 904.153\n",
      "INFO:tensorflow:loss = 11.632727, step = 17301 (0.111 sec)\n",
      "INFO:tensorflow:global_step/sec: 852.974\n",
      "INFO:tensorflow:loss = 9.064291, step = 17401 (0.117 sec)\n",
      "INFO:tensorflow:global_step/sec: 909.715\n",
      "INFO:tensorflow:loss = 10.788687, step = 17501 (0.111 sec)\n",
      "INFO:tensorflow:global_step/sec: 734.738\n",
      "INFO:tensorflow:loss = 17.948723, step = 17601 (0.136 sec)\n",
      "INFO:tensorflow:global_step/sec: 554.519\n",
      "INFO:tensorflow:loss = 12.402, step = 17701 (0.180 sec)\n",
      "INFO:tensorflow:global_step/sec: 791.921\n",
      "INFO:tensorflow:loss = 14.512419, step = 17801 (0.129 sec)\n"
     ]
    },
    {
     "name": "stdout",
     "output_type": "stream",
     "text": [
      "INFO:tensorflow:global_step/sec: 891.83\n",
      "INFO:tensorflow:loss = 42.6343, step = 17901 (0.111 sec)\n",
      "INFO:tensorflow:global_step/sec: 876.393\n",
      "INFO:tensorflow:loss = 18.740229, step = 18001 (0.112 sec)\n",
      "INFO:tensorflow:global_step/sec: 975.762\n",
      "INFO:tensorflow:loss = 7.854171, step = 18101 (0.104 sec)\n",
      "INFO:tensorflow:global_step/sec: 942.218\n",
      "INFO:tensorflow:loss = 8.725031, step = 18201 (0.106 sec)\n",
      "INFO:tensorflow:global_step/sec: 880.479\n",
      "INFO:tensorflow:loss = 8.175825, step = 18301 (0.113 sec)\n",
      "INFO:tensorflow:global_step/sec: 914.667\n",
      "INFO:tensorflow:loss = 14.675655, step = 18401 (0.110 sec)\n",
      "INFO:tensorflow:global_step/sec: 979.691\n",
      "INFO:tensorflow:loss = 9.243334, step = 18501 (0.102 sec)\n",
      "INFO:tensorflow:global_step/sec: 896.828\n",
      "INFO:tensorflow:loss = 9.773117, step = 18601 (0.113 sec)\n",
      "INFO:tensorflow:global_step/sec: 934.901\n",
      "INFO:tensorflow:loss = 7.77318, step = 18701 (0.106 sec)\n",
      "INFO:tensorflow:global_step/sec: 1023.84\n",
      "INFO:tensorflow:loss = 13.224071, step = 18801 (0.097 sec)\n",
      "INFO:tensorflow:global_step/sec: 1105.6\n",
      "INFO:tensorflow:loss = 34.587196, step = 18901 (0.091 sec)\n",
      "INFO:tensorflow:global_step/sec: 819.371\n",
      "INFO:tensorflow:loss = 9.840095, step = 19001 (0.125 sec)\n",
      "INFO:tensorflow:global_step/sec: 906.013\n",
      "INFO:tensorflow:loss = 11.953816, step = 19101 (0.108 sec)\n",
      "INFO:tensorflow:global_step/sec: 812.628\n",
      "INFO:tensorflow:loss = 10.037676, step = 19201 (0.122 sec)\n",
      "INFO:tensorflow:global_step/sec: 812.083\n",
      "INFO:tensorflow:loss = 9.415022, step = 19301 (0.123 sec)\n",
      "INFO:tensorflow:global_step/sec: 916.613\n",
      "INFO:tensorflow:loss = 10.683691, step = 19401 (0.109 sec)\n",
      "INFO:tensorflow:global_step/sec: 830.95\n",
      "INFO:tensorflow:loss = 15.873644, step = 19501 (0.121 sec)\n",
      "INFO:tensorflow:global_step/sec: 934.885\n",
      "INFO:tensorflow:loss = 56.58365, step = 19601 (0.107 sec)\n",
      "INFO:tensorflow:global_step/sec: 584.776\n",
      "INFO:tensorflow:loss = 19.1403, step = 19701 (0.173 sec)\n",
      "INFO:tensorflow:global_step/sec: 417.247\n",
      "INFO:tensorflow:loss = 12.066254, step = 19801 (0.237 sec)\n",
      "INFO:tensorflow:global_step/sec: 1109.28\n",
      "INFO:tensorflow:loss = 10.765601, step = 19901 (0.091 sec)\n",
      "INFO:tensorflow:Saving checkpoints for 20000 into /tmp/tmpin9f9p6r/model.ckpt.\n",
      "INFO:tensorflow:Loss for final step: 15.137196.\n"
     ]
    },
    {
     "data": {
      "text/plain": [
       "<tensorflow.python.estimator.canned.linear.LinearRegressor at 0x7f9ebfe8dd30>"
      ]
     },
     "execution_count": 45,
     "metadata": {},
     "output_type": "execute_result"
    }
   ],
   "source": [
    "regressor.train(input_fn = train_function, steps = 10000)"
   ]
  },
  {
   "cell_type": "code",
   "execution_count": 46,
   "metadata": {},
   "outputs": [
    {
     "name": "stdout",
     "output_type": "stream",
     "text": [
      "INFO:tensorflow:Calling model_fn.\n",
      "INFO:tensorflow:Done calling model_fn.\n",
      "INFO:tensorflow:Starting evaluation at 2019-01-22-01:36:12\n",
      "INFO:tensorflow:Graph was finalized.\n",
      "INFO:tensorflow:Restoring parameters from /tmp/tmpin9f9p6r/model.ckpt-20000\n",
      "INFO:tensorflow:Running local_init_op.\n",
      "INFO:tensorflow:Done running local_init_op.\n",
      "INFO:tensorflow:Evaluation [1000/10000]\n",
      "INFO:tensorflow:Evaluation [2000/10000]\n",
      "INFO:tensorflow:Evaluation [3000/10000]\n",
      "INFO:tensorflow:Evaluation [4000/10000]\n",
      "INFO:tensorflow:Evaluation [5000/10000]\n",
      "INFO:tensorflow:Evaluation [6000/10000]\n",
      "INFO:tensorflow:Evaluation [7000/10000]\n",
      "INFO:tensorflow:Evaluation [8000/10000]\n",
      "INFO:tensorflow:Evaluation [9000/10000]\n",
      "INFO:tensorflow:Evaluation [10000/10000]\n",
      "INFO:tensorflow:Finished evaluation at 2019-01-22-01:36:19\n",
      "INFO:tensorflow:Saving dict for global step 20000: average_loss = 0.5171162, global_step = 20000, label/mean = 0.0015062756, loss = 16.547718, prediction/mean = -0.0044445004\n",
      "INFO:tensorflow:Saving 'checkpoint_path' summary for global step 20000: /tmp/tmpin9f9p6r/model.ckpt-20000\n"
     ]
    }
   ],
   "source": [
    "train_metrics = regressor.evaluate(input_fn = train_function, steps = 10000)"
   ]
  },
  {
   "cell_type": "code",
   "execution_count": 47,
   "metadata": {},
   "outputs": [
    {
     "name": "stdout",
     "output_type": "stream",
     "text": [
      "INFO:tensorflow:Calling model_fn.\n",
      "INFO:tensorflow:Done calling model_fn.\n",
      "INFO:tensorflow:Starting evaluation at 2019-01-22-01:36:22\n",
      "INFO:tensorflow:Graph was finalized.\n",
      "INFO:tensorflow:Restoring parameters from /tmp/tmpin9f9p6r/model.ckpt-20000\n",
      "INFO:tensorflow:Running local_init_op.\n",
      "INFO:tensorflow:Done running local_init_op.\n",
      "INFO:tensorflow:Evaluation [1000/10000]\n",
      "INFO:tensorflow:Evaluation [2000/10000]\n",
      "INFO:tensorflow:Evaluation [3000/10000]\n",
      "INFO:tensorflow:Evaluation [4000/10000]\n",
      "INFO:tensorflow:Evaluation [5000/10000]\n",
      "INFO:tensorflow:Evaluation [6000/10000]\n",
      "INFO:tensorflow:Evaluation [7000/10000]\n",
      "INFO:tensorflow:Evaluation [8000/10000]\n",
      "INFO:tensorflow:Evaluation [9000/10000]\n",
      "INFO:tensorflow:Evaluation [10000/10000]\n",
      "INFO:tensorflow:Finished evaluation at 2019-01-22-01:36:32\n",
      "INFO:tensorflow:Saving dict for global step 20000: average_loss = 0.4843942, global_step = 20000, label/mean = -0.0033818043, loss = 15.500614, prediction/mean = -0.008281826\n",
      "INFO:tensorflow:Saving 'checkpoint_path' summary for global step 20000: /tmp/tmpin9f9p6r/model.ckpt-20000\n"
     ]
    }
   ],
   "source": [
    "test_metrics = regressor.evaluate(input_fn = test_function, steps = 10000)"
   ]
  },
  {
   "cell_type": "code",
   "execution_count": 48,
   "metadata": {},
   "outputs": [
    {
     "data": {
      "text/plain": [
       "{'average_loss': 0.5171162,\n",
       " 'label/mean': 0.0015062756,\n",
       " 'loss': 16.547718,\n",
       " 'prediction/mean': -0.0044445004,\n",
       " 'global_step': 20000}"
      ]
     },
     "execution_count": 48,
     "metadata": {},
     "output_type": "execute_result"
    }
   ],
   "source": [
    "train_metrics"
   ]
  },
  {
   "cell_type": "code",
   "execution_count": 49,
   "metadata": {},
   "outputs": [
    {
     "data": {
      "text/plain": [
       "{'average_loss': 0.4843942,\n",
       " 'label/mean': -0.0033818043,\n",
       " 'loss': 15.500614,\n",
       " 'prediction/mean': -0.008281826,\n",
       " 'global_step': 20000}"
      ]
     },
     "execution_count": 49,
     "metadata": {},
     "output_type": "execute_result"
    }
   ],
   "source": [
    "test_metrics"
   ]
  },
  {
   "cell_type": "code",
   "execution_count": 50,
   "metadata": {},
   "outputs": [
    {
     "data": {
      "text/plain": [
       "array([[ 800],\n",
       "       [ 900],\n",
       "       [1000]])"
      ]
     },
     "execution_count": 50,
     "metadata": {},
     "output_type": "execute_result"
    }
   ],
   "source": [
    "import numpy as np\n",
    "novas_casas = np.array([[800], [900], [1000]])\n",
    "novas_casas"
   ]
  },
  {
   "cell_type": "code",
   "execution_count": 51,
   "metadata": {},
   "outputs": [
    {
     "name": "stderr",
     "output_type": "stream",
     "text": [
      "/home/claesia/.local/lib/python3.6/site-packages/sklearn/utils/validation.py:595: DataConversionWarning: Data with input dtype int64 was converted to float64 by StandardScaler.\n",
      "  warnings.warn(msg, DataConversionWarning)\n",
      "/home/claesia/.local/lib/python3.6/site-packages/sklearn/utils/validation.py:595: DataConversionWarning: Data with input dtype int64 was converted to float64 by StandardScaler.\n",
      "  warnings.warn(msg, DataConversionWarning)\n"
     ]
    },
    {
     "data": {
      "text/plain": [
       "array([[-1.22474487],\n",
       "       [ 0.        ],\n",
       "       [ 1.22474487]])"
      ]
     },
     "execution_count": 51,
     "metadata": {},
     "output_type": "execute_result"
    }
   ],
   "source": [
    "from sklearn.preprocessing import StandardScaler\n",
    "scaler_x = StandardScaler()\n",
    "novas_casas = scaler_x.fit_transform(novas_casas)\n",
    "novas_casas"
   ]
  },
  {
   "cell_type": "code",
   "execution_count": 52,
   "metadata": {},
   "outputs": [],
   "source": [
    "funcao_previsao = tf.estimator.inputs.numpy_input_fn({'x': novas_casas}, shuffle = True)"
   ]
  },
  {
   "cell_type": "code",
   "execution_count": 53,
   "metadata": {},
   "outputs": [],
   "source": [
    "previsoes = regressor.predict(input_fn = funcao_previsao)"
   ]
  },
  {
   "cell_type": "code",
   "execution_count": 54,
   "metadata": {},
   "outputs": [
    {
     "data": {
      "text/plain": [
       "<generator object Estimator.predict at 0x7f9eabd3eeb8>"
      ]
     },
     "execution_count": 54,
     "metadata": {},
     "output_type": "execute_result"
    }
   ],
   "source": [
    "previsoes"
   ]
  },
  {
   "cell_type": "code",
   "execution_count": 56,
   "metadata": {},
   "outputs": [
    {
     "data": {
      "text/plain": [
       "[]"
      ]
     },
     "execution_count": 56,
     "metadata": {},
     "output_type": "execute_result"
    }
   ],
   "source": [
    "list(previsoes)"
   ]
  },
  {
   "cell_type": "code",
   "execution_count": 57,
   "metadata": {},
   "outputs": [
    {
     "name": "stdout",
     "output_type": "stream",
     "text": [
      "INFO:tensorflow:Calling model_fn.\n",
      "INFO:tensorflow:Done calling model_fn.\n",
      "INFO:tensorflow:Graph was finalized.\n",
      "INFO:tensorflow:Restoring parameters from /tmp/tmpin9f9p6r/model.ckpt-20000\n",
      "INFO:tensorflow:Running local_init_op.\n",
      "INFO:tensorflow:Done running local_init_op.\n",
      "[220481.86]\n",
      "[538029.94]\n",
      "[855578.]\n"
     ]
    }
   ],
   "source": [
    "for p in regressor.predict(input_fn = funcao_previsao):\n",
    "    #print(p['predictions'])\n",
    "    print(scaler_y.inverse_transform(p['predictions']))"
   ]
  },
  {
   "cell_type": "code",
   "execution_count": null,
   "metadata": {},
   "outputs": [],
   "source": []
  }
 ],
 "metadata": {
  "kernelspec": {
   "display_name": "Python 3",
   "language": "python",
   "name": "python3"
  },
  "language_info": {
   "codemirror_mode": {
    "name": "ipython",
    "version": 3
   },
   "file_extension": ".py",
   "mimetype": "text/x-python",
   "name": "python",
   "nbconvert_exporter": "python",
   "pygments_lexer": "ipython3",
   "version": "3.6.7"
  }
 },
 "nbformat": 4,
 "nbformat_minor": 2
}
